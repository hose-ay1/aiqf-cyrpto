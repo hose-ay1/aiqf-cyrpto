{
 "cells": [
  {
   "cell_type": "code",
   "execution_count": 1,
   "id": "00e7198f",
   "metadata": {},
   "outputs": [],
   "source": [
    "from selenium import webdriver\n",
    "from selenium.webdriver.common.by import By\n",
    "from selenium.webdriver.support.ui import WebDriverWait\n",
    "from selenium.webdriver.support import expected_conditions as EC\n",
    "import time"
   ]
  },
  {
   "cell_type": "code",
   "execution_count": 2,
   "id": "9685b8d8",
   "metadata": {},
   "outputs": [
    {
     "ename": "NoSuchWindowException",
     "evalue": "Message: no such window: target window already closed\nfrom unknown error: web view not found\n  (Session info: chrome=141.0.7390.123)\nStacktrace:\n0   chromedriver                        0x0000000102d43cf8 cxxbridge1$str$ptr + 2895872\n1   chromedriver                        0x0000000102d3bc34 cxxbridge1$str$ptr + 2862908\n2   chromedriver                        0x0000000102861570 _RNvCs47EqcsrPRmA_7___rustc35___rust_no_alloc_shim_is_unstable_v2 + 74324\n3   chromedriver                        0x000000010283b118 chromedriver + 143640\n4   chromedriver                        0x00000001028d137c _RNvCs47EqcsrPRmA_7___rustc35___rust_no_alloc_shim_is_unstable_v2 + 532576\n5   chromedriver                        0x00000001028e9f38 _RNvCs47EqcsrPRmA_7___rustc35___rust_no_alloc_shim_is_unstable_v2 + 633884\n6   chromedriver                        0x000000010289d0f8 _RNvCs47EqcsrPRmA_7___rustc35___rust_no_alloc_shim_is_unstable_v2 + 318940\n7   chromedriver                        0x0000000102d0781c cxxbridge1$str$ptr + 2648868\n8   chromedriver                        0x0000000102d0adf8 cxxbridge1$str$ptr + 2662656\n9   chromedriver                        0x0000000102ce8334 cxxbridge1$str$ptr + 2520636\n10  chromedriver                        0x0000000102d0b6e0 cxxbridge1$str$ptr + 2664936\n11  chromedriver                        0x0000000102cd9a80 cxxbridge1$str$ptr + 2461064\n12  chromedriver                        0x0000000102d2b014 cxxbridge1$str$ptr + 2794268\n13  chromedriver                        0x0000000102d2b198 cxxbridge1$str$ptr + 2794656\n14  chromedriver                        0x0000000102d3b880 cxxbridge1$str$ptr + 2861960\n15  libsystem_pthread.dylib             0x0000000182896034 _pthread_start + 136\n16  libsystem_pthread.dylib             0x0000000182890e3c thread_start + 8\n",
     "output_type": "error",
     "traceback": [
      "\u001b[31m---------------------------------------------------------------------------\u001b[39m",
      "\u001b[31mNoSuchWindowException\u001b[39m                     Traceback (most recent call last)",
      "\u001b[36mCell\u001b[39m\u001b[36m \u001b[39m\u001b[32mIn[2]\u001b[39m\u001b[32m, line 11\u001b[39m\n\u001b[32m      8\u001b[39m time.sleep(\u001b[32m3\u001b[39m)\n\u001b[32m     10\u001b[39m \u001b[38;5;66;03m# Get initial scroll height\u001b[39;00m\n\u001b[32m---> \u001b[39m\u001b[32m11\u001b[39m last_height = \u001b[43mdriver\u001b[49m\u001b[43m.\u001b[49m\u001b[43mexecute_script\u001b[49m\u001b[43m(\u001b[49m\u001b[33;43m\"\u001b[39;49m\u001b[33;43mreturn document.body.scrollHeight\u001b[39;49m\u001b[33;43m\"\u001b[39;49m\u001b[43m)\u001b[49m\n\u001b[32m     13\u001b[39m \u001b[38;5;28;01mwhile\u001b[39;00m \u001b[38;5;28;01mTrue\u001b[39;00m:\n\u001b[32m     14\u001b[39m     \u001b[38;5;66;03m# Scroll down to the bottom\u001b[39;00m\n\u001b[32m     15\u001b[39m     driver.execute_script(\u001b[33m\"\u001b[39m\u001b[33mwindow.scrollTo(0, document.body.scrollHeight);\u001b[39m\u001b[33m\"\u001b[39m)\n",
      "\u001b[36mFile \u001b[39m\u001b[32m~/Documents/GitHub/aiqf-cyrpto/venv/lib/python3.11/site-packages/selenium/webdriver/remote/webdriver.py:555\u001b[39m, in \u001b[36mWebDriver.execute_script\u001b[39m\u001b[34m(self, script, *args)\u001b[39m\n\u001b[32m    552\u001b[39m converted_args = \u001b[38;5;28mlist\u001b[39m(args)\n\u001b[32m    553\u001b[39m command = Command.W3C_EXECUTE_SCRIPT\n\u001b[32m--> \u001b[39m\u001b[32m555\u001b[39m \u001b[38;5;28;01mreturn\u001b[39;00m \u001b[38;5;28;43mself\u001b[39;49m\u001b[43m.\u001b[49m\u001b[43mexecute\u001b[49m\u001b[43m(\u001b[49m\u001b[43mcommand\u001b[49m\u001b[43m,\u001b[49m\u001b[43m \u001b[49m\u001b[43m{\u001b[49m\u001b[33;43m\"\u001b[39;49m\u001b[33;43mscript\u001b[39;49m\u001b[33;43m\"\u001b[39;49m\u001b[43m:\u001b[49m\u001b[43m \u001b[49m\u001b[43mscript\u001b[49m\u001b[43m,\u001b[49m\u001b[43m \u001b[49m\u001b[33;43m\"\u001b[39;49m\u001b[33;43margs\u001b[39;49m\u001b[33;43m\"\u001b[39;49m\u001b[43m:\u001b[49m\u001b[43m \u001b[49m\u001b[43mconverted_args\u001b[49m\u001b[43m}\u001b[49m\u001b[43m)\u001b[49m[\u001b[33m\"\u001b[39m\u001b[33mvalue\u001b[39m\u001b[33m\"\u001b[39m]\n",
      "\u001b[36mFile \u001b[39m\u001b[32m~/Documents/GitHub/aiqf-cyrpto/venv/lib/python3.11/site-packages/selenium/webdriver/remote/webdriver.py:458\u001b[39m, in \u001b[36mWebDriver.execute\u001b[39m\u001b[34m(self, driver_command, params)\u001b[39m\n\u001b[32m    455\u001b[39m response = cast(RemoteConnection, \u001b[38;5;28mself\u001b[39m.command_executor).execute(driver_command, params)\n\u001b[32m    457\u001b[39m \u001b[38;5;28;01mif\u001b[39;00m response:\n\u001b[32m--> \u001b[39m\u001b[32m458\u001b[39m     \u001b[38;5;28;43mself\u001b[39;49m\u001b[43m.\u001b[49m\u001b[43merror_handler\u001b[49m\u001b[43m.\u001b[49m\u001b[43mcheck_response\u001b[49m\u001b[43m(\u001b[49m\u001b[43mresponse\u001b[49m\u001b[43m)\u001b[49m\n\u001b[32m    459\u001b[39m     response[\u001b[33m\"\u001b[39m\u001b[33mvalue\u001b[39m\u001b[33m\"\u001b[39m] = \u001b[38;5;28mself\u001b[39m._unwrap_value(response.get(\u001b[33m\"\u001b[39m\u001b[33mvalue\u001b[39m\u001b[33m\"\u001b[39m, \u001b[38;5;28;01mNone\u001b[39;00m))\n\u001b[32m    460\u001b[39m     \u001b[38;5;28;01mreturn\u001b[39;00m response\n",
      "\u001b[36mFile \u001b[39m\u001b[32m~/Documents/GitHub/aiqf-cyrpto/venv/lib/python3.11/site-packages/selenium/webdriver/remote/errorhandler.py:232\u001b[39m, in \u001b[36mErrorHandler.check_response\u001b[39m\u001b[34m(self, response)\u001b[39m\n\u001b[32m    230\u001b[39m         alert_text = value[\u001b[33m\"\u001b[39m\u001b[33malert\u001b[39m\u001b[33m\"\u001b[39m].get(\u001b[33m\"\u001b[39m\u001b[33mtext\u001b[39m\u001b[33m\"\u001b[39m)\n\u001b[32m    231\u001b[39m     \u001b[38;5;28;01mraise\u001b[39;00m exception_class(message, screen, stacktrace, alert_text)  \u001b[38;5;66;03m# type: ignore[call-arg]  # mypy is not smart enough here\u001b[39;00m\n\u001b[32m--> \u001b[39m\u001b[32m232\u001b[39m \u001b[38;5;28;01mraise\u001b[39;00m exception_class(message, screen, stacktrace)\n",
      "\u001b[31mNoSuchWindowException\u001b[39m: Message: no such window: target window already closed\nfrom unknown error: web view not found\n  (Session info: chrome=141.0.7390.123)\nStacktrace:\n0   chromedriver                        0x0000000102d43cf8 cxxbridge1$str$ptr + 2895872\n1   chromedriver                        0x0000000102d3bc34 cxxbridge1$str$ptr + 2862908\n2   chromedriver                        0x0000000102861570 _RNvCs47EqcsrPRmA_7___rustc35___rust_no_alloc_shim_is_unstable_v2 + 74324\n3   chromedriver                        0x000000010283b118 chromedriver + 143640\n4   chromedriver                        0x00000001028d137c _RNvCs47EqcsrPRmA_7___rustc35___rust_no_alloc_shim_is_unstable_v2 + 532576\n5   chromedriver                        0x00000001028e9f38 _RNvCs47EqcsrPRmA_7___rustc35___rust_no_alloc_shim_is_unstable_v2 + 633884\n6   chromedriver                        0x000000010289d0f8 _RNvCs47EqcsrPRmA_7___rustc35___rust_no_alloc_shim_is_unstable_v2 + 318940\n7   chromedriver                        0x0000000102d0781c cxxbridge1$str$ptr + 2648868\n8   chromedriver                        0x0000000102d0adf8 cxxbridge1$str$ptr + 2662656\n9   chromedriver                        0x0000000102ce8334 cxxbridge1$str$ptr + 2520636\n10  chromedriver                        0x0000000102d0b6e0 cxxbridge1$str$ptr + 2664936\n11  chromedriver                        0x0000000102cd9a80 cxxbridge1$str$ptr + 2461064\n12  chromedriver                        0x0000000102d2b014 cxxbridge1$str$ptr + 2794268\n13  chromedriver                        0x0000000102d2b198 cxxbridge1$str$ptr + 2794656\n14  chromedriver                        0x0000000102d3b880 cxxbridge1$str$ptr + 2861960\n15  libsystem_pthread.dylib             0x0000000182896034 _pthread_start + 136\n16  libsystem_pthread.dylib             0x0000000182890e3c thread_start + 8\n"
     ]
    }
   ],
   "source": [
    "# Setup webdriver\n",
    "driver = webdriver.Chrome()\n",
    "\n",
    "# Load the webpage\n",
    "driver.get(\"https://www.coindesk.com/price\")\n",
    "\n",
    "# Wait for the page/table to load initially\n",
    "time.sleep(3)\n",
    "\n",
    "# Get initial scroll height\n",
    "last_height = driver.execute_script(\"return document.body.scrollHeight\")\n",
    "\n",
    "while True:\n",
    "    # Scroll down to the bottom\n",
    "    driver.execute_script(\"window.scrollTo(0, document.body.scrollHeight);\")\n",
    "    \n",
    "    # Wait for new data to load\n",
    "    time.sleep(2)\n",
    "    \n",
    "    # Calculate new scroll height and compare with last scroll height\n",
    "    new_height = driver.execute_script(\"return document.body.scrollHeight\")\n",
    "    \n",
    "    if new_height == last_height:\n",
    "        break  # No more new content loaded\n",
    "    \n",
    "    last_height = new_height\n",
    "\n",
    "# Now find the table\n",
    "table = driver.find_element(By.TAG_NAME, \"table\")\n",
    "\n",
    "# Extract headers\n",
    "headers = [header.text.strip() for header in table.find_elements(By.TAG_NAME, \"th\")]\n",
    "\n",
    "# Extract rows\n",
    "rows = table.find_elements(By.TAG_NAME, \"tr\")\n",
    "\n",
    "for i in range(1, len(rows)):\n",
    "    cells = [cell.text.strip() for cell in rows[i].find_elements(By.TAG_NAME, \"td\")]\n",
    "    if cells and any(cells):\n",
    "        data = dict(zip(headers, cells))\n",
    "        print(data)\n",
    "\n",
    "driver.quit()"
   ]
  },
  {
   "cell_type": "code",
   "execution_count": null,
   "id": "6fcd7480",
   "metadata": {},
   "outputs": [],
   "source": []
  }
 ],
 "metadata": {
  "kernelspec": {
   "display_name": "venv",
   "language": "python",
   "name": "python3"
  },
  "language_info": {
   "codemirror_mode": {
    "name": "ipython",
    "version": 3
   },
   "file_extension": ".py",
   "mimetype": "text/x-python",
   "name": "python",
   "nbconvert_exporter": "python",
   "pygments_lexer": "ipython3",
   "version": "3.11.9"
  }
 },
 "nbformat": 4,
 "nbformat_minor": 5
}
